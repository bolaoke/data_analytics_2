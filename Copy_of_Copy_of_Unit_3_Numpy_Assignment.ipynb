{
  "nbformat": 4,
  "nbformat_minor": 0,
  "metadata": {
    "colab": {
      "name": "Copy of Copy of Unit 3 Numpy Assignment",
      "provenance": [],
      "collapsed_sections": [],
      "toc_visible": true,
      "include_colab_link": true
    },
    "kernelspec": {
      "name": "python3",
      "display_name": "Python 3"
    }
  },
  "cells": [
    {
      "cell_type": "markdown",
      "metadata": {
        "id": "view-in-github",
        "colab_type": "text"
      },
      "source": [
        "<a href=\"https://colab.research.google.com/github/bolaoke/data_analytics_2/blob/main/Copy_of_Copy_of_Unit_3_Numpy_Assignment.ipynb\" target=\"_parent\"><img src=\"https://colab.research.google.com/assets/colab-badge.svg\" alt=\"Open In Colab\"/></a>"
      ]
    },
    {
      "cell_type": "markdown",
      "metadata": {
        "id": "Vgs8Kp4TidFQ"
      },
      "source": [
        "# Unit 3 - Advanced Python - NumPy - Assingment #1  "
      ]
    },
    {
      "cell_type": "markdown",
      "metadata": {
        "id": "_Hq7Ny79iwgD"
      },
      "source": [
        "## 1. Environment Set up"
      ]
    },
    {
      "cell_type": "code",
      "metadata": {
        "id": "MiB4JCOP5FdJ"
      },
      "source": [
        "import numpy as np\n"
      ],
      "execution_count": null,
      "outputs": []
    },
    {
      "cell_type": "code",
      "metadata": {
        "id": "lotvpVpvlKsR",
        "colab": {
          "base_uri": "https://localhost:8080/"
        },
        "outputId": "8c5473b8-ec7a-431e-a871-aca64a4f2719"
      },
      "source": [
        "#Dataset from summer Olympic London, year 2012\n",
        "# 2 countries were added to the olympic list Nigeria(NGN 12) and South Africa \n",
        "import numpy as np \n",
        "country = np.array(['KOR','JPN','US','RUS','GBR','China','GER','NGN','South Africa']) \n",
        "country_Gold = np.array([29,38,24,46,13,7,11,12,50]) \n",
        "country_Silver = np.array([17,28,25,28,8,14,11])\n",
        "country_Bronze = np.array([19,22,32,29,7,17,14]) \n",
        "highest = np.where(country_Gold == np.max(country_Gold)) \n",
        "\n",
        "print('Max number of gold medals',np.max(country_Gold)) \n",
        "print('index number of maximum element (gold medals) :',highest[0]) "
      ],
      "execution_count": null,
      "outputs": [
        {
          "output_type": "stream",
          "text": [
            "Max number of gold medals 50\n",
            "index number of maximum element (gold medals) : [8]\n"
          ],
          "name": "stdout"
        }
      ]
    },
    {
      "cell_type": "markdown",
      "metadata": {
        "id": "io_27RSlizno"
      },
      "source": [
        "## 2.\tFind country with maximum gold"
      ]
    },
    {
      "cell_type": "code",
      "metadata": {
        "id": "Dh1o5cAylSHB",
        "colab": {
          "base_uri": "https://localhost:8080/"
        },
        "outputId": "e1bc641b-8a87-4978-bad5-25ac6fb7c538"
      },
      "source": [
        "import numpy as np\n",
        "country = np.array(['KOR','JPN','US','RUS','GBR','China','GER','NGN','South Africa']) \n",
        "country_Gold = np.array([29,38,24,46,13,7,11,12,50]) \n",
        "country_Silver = np.array([17,28,25,28,8,14,11])\n",
        "country_Bronze = np.array([19,22,32,29,7,17,14]) \n",
        "highest = np.where(country_Gold == np.max(country_Gold))\n",
        "\n",
        "\n",
        "print('The country with Max number of gold medals is:',country[highest])\n",
        "more_than_20_medals=country_Gold >20 \n",
        "print(more_than_20_medals) \n",
        "country_Gold[more_than_20_medals] \n",
        "x = np.where(country_Gold >20) \n",
        "\n",
        "print('the countries with more  than 20 medals are:', country[x]) "
      ],
      "execution_count": null,
      "outputs": [
        {
          "output_type": "stream",
          "text": [
            "The country with Max number of gold medals is: ['South Africa']\n",
            "[ True  True  True  True False False False False  True]\n",
            "the countries with more  than 20 medals are: ['KOR' 'JPN' 'US' 'RUS' 'South Africa']\n"
          ],
          "name": "stdout"
        }
      ]
    },
    {
      "cell_type": "code",
      "metadata": {
        "id": "vs8ppR-wlSKL"
      },
      "source": [
        ""
      ],
      "execution_count": null,
      "outputs": []
    },
    {
      "cell_type": "markdown",
      "metadata": {
        "id": "DAW8m8IQjRyR"
      },
      "source": [
        "## 3.\tFind countries with more than 20 gold medals"
      ]
    },
    {
      "cell_type": "code",
      "metadata": {
        "id": "guULMEhrjYtT",
        "colab": {
          "base_uri": "https://localhost:8080/"
        },
        "outputId": "8f072747-7c60-452c-e28f-2819157dd5c7"
      },
      "source": [
        "import numpy as np\n",
        "Gold = np.array ([29,38,24,46,13,7,11,12,50]) \n",
        "more_than_20_medals=country_Gold >20\n",
        "print(more_than_20_medals) \n",
        "country_Gold[more_than_20_medals] \n",
        "y = np.where(country_Gold >20) \n",
        "\n",
        "print(y)"
      ],
      "execution_count": null,
      "outputs": [
        {
          "output_type": "stream",
          "text": [
            "[ True  True  True  True False False False False  True]\n",
            "(array([0, 1, 2, 3, 8]),)\n"
          ],
          "name": "stdout"
        }
      ]
    },
    {
      "cell_type": "code",
      "metadata": {
        "id": "cv946RaOjw-G"
      },
      "source": [
        ""
      ],
      "execution_count": null,
      "outputs": []
    },
    {
      "cell_type": "code",
      "metadata": {
        "id": "4oNKGU70llVg"
      },
      "source": [
        ""
      ],
      "execution_count": null,
      "outputs": []
    },
    {
      "cell_type": "code",
      "metadata": {
        "id": "jjh2GdktllZY"
      },
      "source": [
        ""
      ],
      "execution_count": null,
      "outputs": []
    },
    {
      "cell_type": "code",
      "metadata": {
        "id": "iHaRIrt8llcd"
      },
      "source": [
        ""
      ],
      "execution_count": null,
      "outputs": []
    }
  ]
}