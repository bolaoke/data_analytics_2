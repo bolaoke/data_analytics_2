{
  "nbformat": 4,
  "nbformat_minor": 0,
  "metadata": {
    "colab": {
      "name": "Unit 2 lecture3",
      "provenance": [],
      "collapsed_sections": [],
      "authorship_tag": "ABX9TyMzmWhCACTY+QRTZvxGQwtK",
      "include_colab_link": true
    },
    "kernelspec": {
      "name": "python3",
      "display_name": "Python 3"
    },
    "language_info": {
      "name": "python"
    }
  },
  "cells": [
    {
      "cell_type": "markdown",
      "metadata": {
        "id": "view-in-github",
        "colab_type": "text"
      },
      "source": [
        "<a href=\"https://colab.research.google.com/github/bolaoke/data_analytics_2/blob/main/Unit_2_lecture3.ipynb\" target=\"_parent\"><img src=\"https://colab.research.google.com/assets/colab-badge.svg\" alt=\"Open In Colab\"/></a>"
      ]
    },
    {
      "cell_type": "code",
      "metadata": {
        "colab": {
          "base_uri": "https://localhost:8080/"
        },
        "id": "TdFqCUXTcFpT",
        "outputId": "efc26528-3eb7-41dd-8024-2263a7a1f00d"
      },
      "source": [
        "tvshows = [\"The office\", \"Game of throne\", \"The soprano\", \"All in the family\", \"Friends\"]\n",
        "\n",
        "print(tvshows)\n",
        "\n",
        "\n"
      ],
      "execution_count": 31,
      "outputs": [
        {
          "output_type": "stream",
          "text": [
            "['The office', 'Game of throne', 'The soprano', 'All in the family', 'Friends']\n"
          ],
          "name": "stdout"
        }
      ]
    },
    {
      "cell_type": "code",
      "metadata": {
        "id": "Y0oXP6yZpUUX"
      },
      "source": [
        ""
      ],
      "execution_count": null,
      "outputs": []
    },
    {
      "cell_type": "code",
      "metadata": {
        "colab": {
          "base_uri": "https://localhost:8080/"
        },
        "id": "yKMcFYmrjd59",
        "outputId": "e5c7ac47-4a2e-4866-b8ed-72b45e6afcc2"
      },
      "source": [
        "tvshows = ['The office', 'Game of throne', 'The soprano', 'All in the family', 'Friends']\n",
        "x = sorted(tvshows)\n",
        "print(x)"
      ],
      "execution_count": 16,
      "outputs": [
        {
          "output_type": "stream",
          "text": [
            "['All in the family', 'Friends', 'Game of throne', 'The office', 'The soprano']\n"
          ],
          "name": "stdout"
        }
      ]
    },
    {
      "cell_type": "markdown",
      "metadata": {
        "id": "s0vF_5Pcl4be"
      },
      "source": [
        "The sort() method sorts the list ascending by default"
      ]
    },
    {
      "cell_type": "code",
      "metadata": {
        "colab": {
          "base_uri": "https://localhost:8080/"
        },
        "id": "NZOL8AXkmJfS",
        "outputId": "b0bcdc41-73c1-4701-caf7-4d77a0942cdb"
      },
      "source": [
        "foods = ['rice', 'beans', 'tea']\n",
        "foods .sort(reverse= False)\n",
        "print(foods)"
      ],
      "execution_count": 32,
      "outputs": [
        {
          "output_type": "stream",
          "text": [
            "['beans', 'rice', 'tea']\n"
          ],
          "name": "stdout"
        }
      ]
    },
    {
      "cell_type": "code",
      "metadata": {
        "colab": {
          "base_uri": "https://localhost:8080/"
        },
        "id": "VBonbosopWoI",
        "outputId": "f5709898-3d77-4244-8639-e2b70683e19f"
      },
      "source": [
        "foods = ['rice', 'beans','Tea']\n",
        "print(foods)"
      ],
      "execution_count": 33,
      "outputs": [
        {
          "output_type": "stream",
          "text": [
            "['rice', 'beans', 'Tea']\n"
          ],
          "name": "stdout"
        }
      ]
    },
    {
      "cell_type": "code",
      "metadata": {
        "colab": {
          "base_uri": "https://localhost:8080/"
        },
        "id": "uAyCpcwup9-Z",
        "outputId": "0ff8f4ec-fb4d-4e16-d959-950937a2c56e"
      },
      "source": [
        "foods = ['rice', 'beans', 'tea']\n",
        "a = sorted(foods)\n",
        "print(a)"
      ],
      "execution_count": 36,
      "outputs": [
        {
          "output_type": "stream",
          "text": [
            "['beans', 'rice', 'tea']\n"
          ],
          "name": "stdout"
        }
      ]
    },
    {
      "cell_type": "code",
      "metadata": {
        "colab": {
          "base_uri": "https://localhost:8080/"
        },
        "id": "maBq0sh2rUCv",
        "outputId": "343d6ad7-db3d-438a-ace7-2df58fc73d68"
      },
      "source": [
        "tvshows = ['All in the family','comrade', 'Apprentice','The kids','Courage']\n",
        "x = len(tvshows)\n",
        "print(x)"
      ],
      "execution_count": 37,
      "outputs": [
        {
          "output_type": "stream",
          "text": [
            "5\n"
          ],
          "name": "stdout"
        }
      ]
    }
  ]
}