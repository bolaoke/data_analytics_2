{
  "nbformat": 4,
  "nbformat_minor": 0,
  "metadata": {
    "colab": {
      "name": "unit2 lecture5",
      "provenance": [],
      "authorship_tag": "ABX9TyPhw4oSDWr9YwxbF1O8g8e3",
      "include_colab_link": true
    },
    "kernelspec": {
      "name": "python3",
      "display_name": "Python 3"
    },
    "language_info": {
      "name": "python"
    }
  },
  "cells": [
    {
      "cell_type": "markdown",
      "metadata": {
        "id": "view-in-github",
        "colab_type": "text"
      },
      "source": [
        "<a href=\"https://colab.research.google.com/github/bolaoke/data_analytics_2/blob/main/unit2_lecture5.ipynb\" target=\"_parent\"><img src=\"https://colab.research.google.com/assets/colab-badge.svg\" alt=\"Open In Colab\"/></a>"
      ]
    },
    {
      "cell_type": "code",
      "metadata": {
        "id": "H7S0S78gHK54",
        "colab": {
          "base_uri": "https://localhost:8080/"
        },
        "outputId": "62cfe30f-9fa8-405a-b258-7fd8ea64c939"
      },
      "source": [
        "users = ['Sam', 'John', 'billy', 'Admin', 'Mercy']\n",
        "\n",
        "for user in users:\n",
        "  if user=='admin':\n",
        "     print('Hello admin, do you want to save password?')\n",
        "  else:\n",
        "     print('Hello ' + user +  ' thank you')\n"
      ],
      "execution_count": 44,
      "outputs": [
        {
          "output_type": "stream",
          "text": [
            "Hello Sam thank you\n",
            "Hello John thank you\n",
            "Hello billy thank you\n",
            "Hello Admin thank you\n",
            "Hello Mercy thank you\n"
          ],
          "name": "stdout"
        }
      ]
    },
    {
      "cell_type": "code",
      "metadata": {
        "id": "33GptVivXxLn",
        "colab": {
          "base_uri": "https://localhost:8080/"
        },
        "outputId": "eb2c4efe-df70-4fd6-af45-f514d4ef7bb6"
      },
      "source": [
        "numbers = [1,2,3,4,5,6,7,8,9,10]\n",
        "for a in numbers:\n",
        "  if a==1:\n",
        "    print('1st')\n",
        "  elif a==2:\n",
        "    print('2nd')\n",
        "  elif a==3:\n",
        "    print('3rd')\n",
        "  else:\n",
        "    print(str(a)+'th')\n",
        "  "
      ],
      "execution_count": 47,
      "outputs": [
        {
          "output_type": "stream",
          "text": [
            "1st\n",
            "2nd\n",
            "3rd\n",
            "4th\n",
            "5th\n",
            "6th\n",
            "7th\n",
            "8th\n",
            "9th\n",
            "10th\n"
          ],
          "name": "stdout"
        }
      ]
    }
  ]
}