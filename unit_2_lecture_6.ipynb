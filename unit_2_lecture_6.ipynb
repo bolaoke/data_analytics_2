{
  "nbformat": 4,
  "nbformat_minor": 0,
  "metadata": {
    "colab": {
      "name": "unit 2 lecture 6",
      "provenance": [],
      "authorship_tag": "ABX9TyO2Yb1+Am53k8JBoPZBQskA",
      "include_colab_link": true
    },
    "kernelspec": {
      "name": "python3",
      "display_name": "Python 3"
    },
    "language_info": {
      "name": "python"
    }
  },
  "cells": [
    {
      "cell_type": "markdown",
      "metadata": {
        "id": "view-in-github",
        "colab_type": "text"
      },
      "source": [
        "<a href=\"https://colab.research.google.com/github/bolaoke/data_analytics_2/blob/main/unit_2_lecture_6.ipynb\" target=\"_parent\"><img src=\"https://colab.research.google.com/assets/colab-badge.svg\" alt=\"Open In Colab\"/></a>"
      ]
    },
    {
      "cell_type": "code",
      "metadata": {
        "colab": {
          "base_uri": "https://localhost:8080/"
        },
        "id": "lDPm6r4Vdrnk",
        "outputId": "a2d28709-a887-47a6-f1fa-65de0d0dc000"
      },
      "source": [
        "name = {'first_name' : 'doe', 'last_name': 'Sam'}\n",
        "print(name['first_name'])\n",
        "print(name ['last_name'])"
      ],
      "execution_count": 9,
      "outputs": [
        {
          "output_type": "stream",
          "text": [
            "doe\n",
            "Sam\n"
          ],
          "name": "stdout"
        }
      ]
    },
    {
      "cell_type": "code",
      "metadata": {
        "colab": {
          "base_uri": "https://localhost:8080/"
        },
        "id": "p992tD0etGNr",
        "outputId": "2aeb5a6e-bed6-4b32-a73f-b17ad44b435b"
      },
      "source": [
        "a = 'firstname'\n",
        "b = 'lastname'\n",
        "c = ( a + b)\n",
        "print('Hello,' + c)"
      ],
      "execution_count": 50,
      "outputs": [
        {
          "output_type": "stream",
          "text": [
            "Hello,firstnamelastname\n"
          ],
          "name": "stdout"
        }
      ]
    },
    {
      "cell_type": "code",
      "metadata": {
        "colab": {
          "base_uri": "https://localhost:8080/"
        },
        "id": "7csdvZ3XvRo8",
        "outputId": "81ebd1e7-ce50-49c9-cfec-59a07bcbd911"
      },
      "source": [
        "thisdict = {'brand': 'kia', 'model': 'sedona'}\n",
        "print('Given dictionary: ',thisdict)"
      ],
      "execution_count": 53,
      "outputs": [
        {
          "output_type": "stream",
          "text": [
            "Given dictionary:  {'brand': 'kia', 'model': 'sedona'}\n"
          ],
          "name": "stdout"
        }
      ]
    },
    {
      "cell_type": "code",
      "metadata": {
        "colab": {
          "base_uri": "https://localhost:8080/",
          "height": 135
        },
        "id": "CuYZHJeJz8MO",
        "outputId": "70ea993b-0807-4fb3-aee2-1db81e2a23b3"
      },
      "source": [
        "thisdict = {\n",
        "  'pet1' : {\n",
        "    'name': 'Moon',\n",
        "     'color':'black'\n",
        "  },\n",
        "  'pet2': {\n",
        "    'name': 'Bulldog'\n",
        "     'color': 'brown'\n",
        "  },\n",
        "\n",
        "   'pet3' : {\n",
        "    'name':'Wayne',\n",
        "    'color': dark grey\n",
        "    }\n",
        "}  \n",
        "\n",
        "print(thisdict)\n"
      ],
      "execution_count": 85,
      "outputs": [
        {
          "output_type": "error",
          "ename": "SyntaxError",
          "evalue": "ignored",
          "traceback": [
            "\u001b[0;36m  File \u001b[0;32m\"<ipython-input-85-309055e0e412>\"\u001b[0;36m, line \u001b[0;32m8\u001b[0m\n\u001b[0;31m    'color': 'brown'\u001b[0m\n\u001b[0m           ^\u001b[0m\n\u001b[0;31mSyntaxError\u001b[0m\u001b[0;31m:\u001b[0m invalid syntax\n"
          ]
        }
      ]
    }
  ]
}