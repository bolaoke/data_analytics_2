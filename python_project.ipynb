{
  "nbformat": 4,
  "nbformat_minor": 0,
  "metadata": {
    "colab": {
      "name": "python project",
      "provenance": [],
      "authorship_tag": "ABX9TyPbTrJmGGdbIgHh+grZ0fc7",
      "include_colab_link": true
    },
    "kernelspec": {
      "name": "python3",
      "display_name": "Python 3"
    },
    "language_info": {
      "name": "python"
    }
  },
  "cells": [
    {
      "cell_type": "markdown",
      "metadata": {
        "id": "view-in-github",
        "colab_type": "text"
      },
      "source": [
        "<a href=\"https://colab.research.google.com/github/bolaoke/data_analytics_2/blob/main/python_project.ipynb\" target=\"_parent\"><img src=\"https://colab.research.google.com/assets/colab-badge.svg\" alt=\"Open In Colab\"/></a>"
      ]
    },
    {
      "cell_type": "code",
      "metadata": {
        "colab": {
          "base_uri": "https://localhost:8080/"
        },
        "id": "xCanx7vWSIpT",
        "outputId": "32247e12-649f-4673-9a15-4ddd4520cd23"
      },
      "source": [
        "def compare(x, y):\n",
        "  if x=='rock':\n",
        "    if y =='rock':\n",
        "      return 'Tie'\n",
        "    elif y =='paper':\n",
        "        return 'paper wins'\n",
        "  \n",
        "    elif y =='scissors':\n",
        "        return 'rock wins'\n",
        "\n",
        "    elif x =='paper':\n",
        "        if y =='rock':\n",
        "          return 'paper wins'\n",
        "        elif y=='paper':\n",
        "          return 'Tie'\n",
        "    elif y=='scissors':\n",
        "             return 'scissors wins'\n",
        "\n",
        "    elif x=='scissors':\n",
        "          if y =='rock':\n",
        "             return 'rock wins'\n",
        "    elif y =='paper':\n",
        "               return'scissors wins'\n",
        "    elif y=='scissors':\n",
        "             \n",
        "               return'Tie'\n",
        "\n",
        "user1=input('What is your name?')\n",
        "user2=input('And your name?')\n",
        "\n",
        "while True:\n",
        " x = input('%s,do you want to choose rock,paper or scissors?'%user1)\n",
        "y = input('%s,do you want to choose rock,paper or scissors?'%user2)\n",
        "print(compare(x,y))\n",
        "if str(input('Do you want to play another game, yes or no?\\n'))!='yes':\n",
        "  print('Game Over.')\n",
        "  break\n",
        "\n"
      ],
      "execution_count": null,
      "outputs": [
        {
          "output_type": "stream",
          "text": [
            "What is your name?bolaji\n",
            "And your name?bolaji\n",
            "bolaji,do you want to choose rock,paper or scissors?rock\n",
            "bolaji,do you want to choose rock,paper or scissors?paper\n",
            "bolaji,do you want to choose rock,paper or scissors?rock\n",
            "bolaji,do you want to choose rock,paper or scissors?scissors\n",
            "bolaji,do you want to choose rock,paper or scissors?yes\n",
            "bolaji,do you want to choose rock,paper or scissors?no\n",
            "bolaji,do you want to choose rock,paper or scissors?no\n",
            "bolaji,do you want to choose rock,paper or scissors?no\n",
            "bolaji,do you want to choose rock,paper or scissors?yes\n",
            "bolaji,do you want to choose rock,paper or scissors?yes\n",
            "bolaji,do you want to choose rock,paper or scissors?yes\n",
            "bolaji,do you want to choose rock,paper or scissors?yes\n",
            "bolaji,do you want to choose rock,paper or scissors?yes\n",
            "bolaji,do you want to choose rock,paper or scissors?yes\n",
            "bolaji,do you want to choose rock,paper or scissors?no\n",
            "bolaji,do you want to choose rock,paper or scissors?no\n",
            "bolaji,do you want to choose rock,paper or scissors?no\n",
            "bolaji,do you want to choose rock,paper or scissors?no\n",
            "bolaji,do you want to choose rock,paper or scissors?no\n",
            "bolaji,do you want to choose rock,paper or scissors?paper\n",
            "bolaji,do you want to choose rock,paper or scissors?paper\n"
          ],
          "name": "stdout"
        }
      ]
    }
  ]
}