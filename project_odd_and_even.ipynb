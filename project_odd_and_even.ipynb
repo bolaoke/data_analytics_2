{
  "nbformat": 4,
  "nbformat_minor": 0,
  "metadata": {
    "colab": {
      "name": "project odd and even",
      "provenance": [],
      "toc_visible": true,
      "authorship_tag": "ABX9TyMiqW4WKJxnbylB35xdnA/A",
      "include_colab_link": true
    },
    "kernelspec": {
      "name": "python3",
      "display_name": "Python 3"
    },
    "language_info": {
      "name": "python"
    }
  },
  "cells": [
    {
      "cell_type": "markdown",
      "metadata": {
        "id": "view-in-github",
        "colab_type": "text"
      },
      "source": [
        "<a href=\"https://colab.research.google.com/github/bolaoke/data_analytics_2/blob/main/project_odd_and_even.ipynb\" target=\"_parent\"><img src=\"https://colab.research.google.com/assets/colab-badge.svg\" alt=\"Open In Colab\"/></a>"
      ]
    },
    {
      "cell_type": "code",
      "metadata": {
        "colab": {
          "base_uri": "https://localhost:8080/"
        },
        "id": "riBDCIHkwJZp",
        "outputId": "367ba037-6453-4538-cfa9-b47be6d1c947"
      },
      "source": [
        "x = int(input(\"Enter a number: \"))\n",
        "if (x%4==0):\n",
        "  print('The number is multiple of 4')\n",
        "\n",
        "  num,check = map( int,input('Enter two number: ').split())\n",
        "  if ((num/check)%2==0):\n",
        "    print('The check divides the num evenly')\n",
        "else:\n",
        "    print('The check does not divides the num evenly')\n"
      ],
      "execution_count": 18,
      "outputs": [
        {
          "output_type": "stream",
          "text": [
            "Enter a number: 3\n",
            "The check does not divides the num evenly\n"
          ],
          "name": "stdout"
        }
      ]
    },
    {
      "cell_type": "code",
      "metadata": {
        "id": "-ubpxZHt2OBO"
      },
      "source": [
        "\n"
      ],
      "execution_count": null,
      "outputs": []
    }
  ]
}