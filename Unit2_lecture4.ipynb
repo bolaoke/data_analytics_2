{
  "nbformat": 4,
  "nbformat_minor": 0,
  "metadata": {
    "colab": {
      "name": "Unit2 lecture4",
      "provenance": [],
      "authorship_tag": "ABX9TyOMx+8wFU/DTz0e04B5lkBS",
      "include_colab_link": true
    },
    "kernelspec": {
      "name": "python3",
      "display_name": "Python 3"
    },
    "language_info": {
      "name": "python"
    }
  },
  "cells": [
    {
      "cell_type": "markdown",
      "metadata": {
        "id": "view-in-github",
        "colab_type": "text"
      },
      "source": [
        "<a href=\"https://colab.research.google.com/github/bolaoke/data_analytics_2/blob/main/Unit2_lecture4.ipynb\" target=\"_parent\"><img src=\"https://colab.research.google.com/assets/colab-badge.svg\" alt=\"Open In Colab\"/></a>"
      ]
    },
    {
      "cell_type": "code",
      "metadata": {
        "colab": {
          "base_uri": "https://localhost:8080/"
        },
        "id": "zEd640O4xtkl",
        "outputId": "4ee7d8d7-86ae-469a-d973-ab70c262d8f8"
      },
      "source": [
        "gradelists = [ 'Excellent', 'Good', 'Fair','Poor', 'Fail']\n",
        "for grade in gradelists:\n",
        "     print(grade + \" is one of my grade\" )"
      ],
      "execution_count": 27,
      "outputs": [
        {
          "output_type": "stream",
          "text": [
            "Excellent is one of my grade\n",
            "Good is one of my grade\n",
            "Fair is one of my grade\n",
            "Poor is one of my grade\n",
            "Fail is one of my grade\n"
          ],
          "name": "stdout"
        }
      ]
    },
    {
      "cell_type": "code",
      "metadata": {
        "colab": {
          "base_uri": "https://localhost:8080/"
        },
        "id": "1NMmNWcf3pp1",
        "outputId": "1cda9b07-5a10-4ca3-81ce-10e89c158874"
      },
      "source": [
        "for x in range(1,20):\n",
        "   print(x)"
      ],
      "execution_count": 32,
      "outputs": [
        {
          "output_type": "stream",
          "text": [
            "1\n",
            "2\n",
            "3\n",
            "4\n",
            "5\n",
            "6\n",
            "7\n",
            "8\n",
            "9\n",
            "10\n",
            "11\n",
            "12\n",
            "13\n",
            "14\n",
            "15\n",
            "16\n",
            "17\n",
            "18\n",
            "19\n"
          ],
          "name": "stdout"
        }
      ]
    },
    {
      "cell_type": "code",
      "metadata": {
        "colab": {
          "base_uri": "https://localhost:8080/"
        },
        "id": "NJZhf5BF7gPz",
        "outputId": "2a03564e-c115-4935-f580-f491cc698747"
      },
      "source": [
        "lists = [1,2,3,4,5,6,7,8,9,10,11,12,13,14,15,16,17,18,19,20]\n",
        "lists.sort()\n",
        "print(lists)"
      ],
      "execution_count": 48,
      "outputs": [
        {
          "output_type": "stream",
          "text": [
            "[1, 2, 3, 4, 5, 6, 7, 8, 9, 10, 11, 12, 13, 14, 15, 16, 17, 18, 19, 20]\n"
          ],
          "name": "stdout"
        }
      ]
    },
    {
      "cell_type": "code",
      "metadata": {
        "colab": {
          "base_uri": "https://localhost:8080/"
        },
        "id": "diGQpCzNBCdf",
        "outputId": "0368f834-3e1c-433a-b78e-e1605bda3722"
      },
      "source": [
        "lists = [1,2,3,4,5,6,7,8,9,10,11,12,13,14,15,16,17,18,19,20]\n",
        "lists.sort()\n",
        "print(lists[:3])"
      ],
      "execution_count": 49,
      "outputs": [
        {
          "output_type": "stream",
          "text": [
            "[1, 2, 3]\n"
          ],
          "name": "stdout"
        }
      ]
    },
    {
      "cell_type": "code",
      "metadata": {
        "colab": {
          "base_uri": "https://localhost:8080/"
        },
        "id": "UWJO9O16ECw-",
        "outputId": "8adb85d9-5a98-4137-8622-7ef291471076"
      },
      "source": [
        "lists = [1,2,3,4,5,6,7,8,9,10,11,12,13,14,15,16,17,18,19,20,]\n",
        "print(lists[-2:])"
      ],
      "execution_count": 50,
      "outputs": [
        {
          "output_type": "stream",
          "text": [
            "[19, 20]\n"
          ],
          "name": "stdout"
        }
      ]
    }
  ]
}